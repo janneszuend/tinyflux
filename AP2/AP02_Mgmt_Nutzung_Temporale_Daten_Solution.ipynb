{
 "cells": [
  {
   "cell_type": "markdown",
   "id": "4cf56921",
   "metadata": {},
   "source": [
    "# Arbeitspaket (AP) 2: Management & Nutzung Temporale Daten"
   ]
  },
  {
   "cell_type": "markdown",
   "id": "0f7fb22f",
   "metadata": {},
   "source": [
    "### Persönliche Angaben (bitte ergänzen)"
   ]
  },
  {
   "cell_type": "markdown",
   "id": "94d35a25",
   "metadata": {},
   "source": [
    "<table>\n",
    "  <tr>\n",
    "    <td>Vorname:</td>\n",
    "    <td></td>\n",
    "  </tr>\n",
    "  <tr>\n",
    "    <td>Nachname:</td>\n",
    "    <td></td>\n",
    "  </tr>\n",
    "  <tr>\n",
    "    <td>Immatrikulationsnummer:</td>\n",
    "    <td></td>\n",
    "  </tr>\n",
    "  <tr>\n",
    "    <td>Modul:</td>\n",
    "    <td>Data Science</td>\n",
    "  </tr>\n",
    "  <tr>\n",
    "    <td>Prüfungsdatum / Raum / Zeit:</td>\n",
    "    <td></td>\n",
    "  </tr>\n",
    "  <tr>\n",
    "    <td>Erlaubte Hilfsmittel:</td>\n",
    "    <td>w.MA.XX.DS.24HS (Data Science)<br>Open Book, Eigener Computer, Internet-Zugang</td>\n",
    "  </tr>\n",
    "  <tr>\n",
    "  <td>Nicht erlaubt:</td>\n",
    "  <td>Nicht erlaubt ist der Einsatz beliebiger Formen von generativer KI (z.B. Copilot, ChatGPT) <br> sowie beliebige Formen von Kommunikation oder Kollaboration mit anderen Menschen.</td>\n",
    "</tr>\n",
    "</table>"
   ]
  },
  {
   "cell_type": "markdown",
   "id": "61847f62",
   "metadata": {},
   "source": [
    "## Bewertungskriterien\n",
    "\n",
    "### <b style=\"color: gray;\">(max. erreichbare Punkte: 48)</b>\n",
    "\n",
    "<table>\n",
    "  <thead>\n",
    "    <tr>\n",
    "      <th>Kategorie</th>\n",
    "      <th>Beschreibung</th>\n",
    "      <th>Punkteverteilung</th>\n",
    "    </tr>\n",
    "  </thead>\n",
    "  <tbody>\n",
    "    <tr>\n",
    "      <td>Code nicht lauffähig oder Ergebnisse nicht sinnvoll</td>\n",
    "      <td>Der Code enthält Fehler, die verhindern, dass er ausgeführt werden kann (z.B. Syntaxfehler) oder es werden Ergebnisse ausgegeben, welche nicht zur Fragestellung passen.</td>\n",
    "      <td>0 Punkte</td>\n",
    "    </tr>\n",
    "    <tr>\n",
    "      <td>Code lauffähig, aber mit gravierenden Mängeln</td>\n",
    "      <td>Der Code läuft, aber die Ergebnisse sind aufgrund wesentlicher Fehler unvollständig (z.B. fehlende Joins, gravierende Fehler in SQL-Abfragen). Nur geringer Fortschritt erkennbar.</td>\n",
    "      <td>25% der max. erreichbaren Punkte</td>\n",
    "    </tr>\n",
    "    <tr>\n",
    "      <td>Code lauffähig, aber mit mittleren Mängeln</td>\n",
    "      <td>Der Code läuft und liefert teilweise korrekte Ergebnisse, aber es gibt grössere Fehler (z.B. fehlende Spalten, unvollständige SQL-Abfragen). Die Ergebnisse sind nachvollziehbar, aber unvollständig oder ungenau.</td>\n",
    "      <td>50% der max. erreichbaren Punkte</td>\n",
    "    </tr>\n",
    "    <tr>\n",
    "      <td>Code lauffähig, aber mit minimalen Mängeln</td>\n",
    "      <td>Der Code läuft und liefert ein weitgehend korrektes Ergebnis, aber kleinere Fehler (z.B. falsche oder fehlende Sortierung, Rundung von Werten falsch) beeinträchtigen die Vollständigkeit des Ergebnisses.</td>\n",
    "      <td>75% der max. erreichbaren Punkte</td>\n",
    "    </tr>\n",
    "    <tr>\n",
    "      <td>Code lauffähig und korrekt</td>\n",
    "      <td>Der Code läuft einwandfrei und liefert das korrekte Ergebnis ohne Mängel.</td>\n",
    "      <td>100% der max. erreichbaren Punkte</td>\n",
    "    </tr>\n",
    "  </tbody>\n",
    "</table>\n",
    "\n"
   ]
  },
  {
   "cell_type": "markdown",
   "id": "90124c07-594b-4ad9-bfd0-e860212a6f4f",
   "metadata": {},
   "source": [
    "## <b>Vorbereitung (Dieser Teil wird <u>nicht</u> bewertet!)</b>"
   ]
  },
  {
   "cell_type": "markdown",
   "id": "9b8df3dd",
   "metadata": {},
   "source": [
    "#### <b>1.) Python Libraries und Settings importieren:</b>"
   ]
  },
  {
   "cell_type": "code",
   "execution_count": null,
   "id": "b027d889",
   "metadata": {},
   "outputs": [],
   "source": [
    "# Libraries\n",
    "import pandas as pd\n",
    "import csv\n",
    "from tinyflux import TinyFlux, Point, FieldQuery, TagQuery, TimeQuery\n",
    "from datetime import datetime, timezone, timedelta\n",
    "\n",
    "# Settings\n",
    "import warnings\n",
    "warnings.filterwarnings(\"ignore\")\n",
    "\n",
    "# Abkürzungen für Query-Typen\n",
    "time = TimeQuery()\n",
    "tags = TagQuery()\n",
    "field = FieldQuery()"
   ]
  },
  {
   "cell_type": "markdown",
   "id": "26250af4-2910-4da6-86bc-6c649d0791d3",
   "metadata": {},
   "source": [
    "#### <b>2.) Funktion für die Erstellung eines Dataframes aus Query-Resultaten in den Arbeitsspeicher laden:</b>"
   ]
  },
  {
   "cell_type": "code",
   "execution_count": null,
   "id": "85718b1e-8fa0-422e-add9-e462f1147bd9",
   "metadata": {
    "tags": []
   },
   "outputs": [],
   "source": [
    "# Define the function to transform the list of Point objects into a DataFrame\n",
    "def points_to_dataframe(points_list):\n",
    "    data = []\n",
    "    \n",
    "    # Extract the relevant information\n",
    "    for point in points_list:\n",
    "        data.append({\n",
    "            \"time\": point.time,  # Access time attribute\n",
    "            \"sender_id\": point.tags['sender_id'],  # Access sender_id from tags dictionary\n",
    "            \"receiver_id\": point.tags['receiver_id'],  # Access receiver_id from tags dictionary\n",
    "            \"status\": point.tags['status'],  # Access status from tags dictionary\n",
    "            \"amount\": point.fields['amount'],  # Access amount from fields dictionary\n",
    "            \"fee\": point.fields['fee']  # Access fee from fields dictionary\n",
    "        })\n",
    "\n",
    "    # Create a DataFrame\n",
    "    df = pd.DataFrame(data)\n",
    "\n",
    "    # Convert time to datetime\n",
    "    df['time'] = pd.to_datetime(df['time'])\n",
    "\n",
    "    return df"
   ]
  },
  {
   "cell_type": "markdown",
   "id": "2e253f40",
   "metadata": {},
   "source": [
    "#### <b>3.) Starten Sie eine GitHub Codespaces Instanz auf Basis Ihres Forks des folgenden GitHub Repositories:</b>\n",
    "\n",
    "##### GitHub-Repository: https://github.com/MariaPelli/tinyflux\n"
   ]
  },
  {
   "cell_type": "markdown",
   "id": "a2442005",
   "metadata": {},
   "source": [
    "#### <b>4.) Erstellen Sie mit Tinyflux eine Datenbank mit dem Namen \"blockchain.db\".</b>"
   ]
  },
  {
   "cell_type": "code",
   "execution_count": null,
   "id": "36ca64be",
   "metadata": {},
   "outputs": [],
   "source": [
    "# Erstellung der Tinyflux-Datenbank (wird bereitgestellt)\n",
    "db = TinyFlux(\"blockchain.db\")"
   ]
  },
  {
   "cell_type": "markdown",
   "id": "e5c27b72",
   "metadata": {},
   "source": [
    "## <b>Aufgaben: Einlesen der Daten in die Datenbank (Dieser Teil wird bewertet!)</b>"
   ]
  },
  {
   "cell_type": "markdown",
   "id": "53f4b234",
   "metadata": {},
   "source": [
    "#### <b>Aufgabe (1): Lesen Sie die CSV-Datei 'synthetic_blockchain_transactions.csv' in ein Dataframe mit dem Namen \"df\" ein, zeigen Sie die ersten 10 Records und geben deskriptive Statistiken des Dataframes aus.</b>\n",
    "\n",
    "<b>Details zur Aufgabenstellung:</b>\n",
    "\n",
    "- Das Laden der CSV-Datei kann mittels der Pandas-Funktion \"read_csv\" (https://pandas.pydata.org/pandas-docs/stable/reference/api/pandas.read_csv.html) erfolgen\n",
    "- Achten Sie darauf, den Zeitstempel mittels der Pandas-Funktion __df['timestamp']= pd.to_datetime(df['timestamp'], format='mixed')__ auf das Format datetime zu setzen (https://pandas.pydata.org/docs/reference/api/pandas.to_datetime.html)\n",
    "- Die ersten 10 Records können mittels der Pandas-Funktion \"df.head()\" wiedergegeben werden (https://pandas.pydata.org/docs/reference/api/pandas.DataFrame.head.html) \n",
    "- Deskriptive Statistiken können mittels Pandas-Funktion \"df.describe()\" (https://pandas.pydata.org/docs/reference/api/pandas.DataFrame.describe.html) wiedergegeben werden. Geben Sie diese für quantitative und kategoriale Variablen aus, indem Sie den Parameter include auf 'all' setzen.\n",
    "\n",
    "<b style=\"color: gray;\">(max. erreichbare Punkte: 4)</b>"
   ]
  },
  {
   "cell_type": "code",
   "execution_count": null,
   "id": "ef32ffa2-1859-48af-a78c-0f1b5748fc98",
   "metadata": {},
   "outputs": [],
   "source": [
    "# CSV-Datei in Dataframe laden\n",
    "df = pd.read_csv('synthetic_blockchain_transactions.csv')\n",
    "\n",
    "# Das Format des Zeitstempels in Pandas setzen\n",
    "df['time']= pd.to_datetime(df['time'], format='mixed')"
   ]
  },
  {
   "cell_type": "code",
   "execution_count": null,
   "id": "a0e96111-8d86-42e6-abe6-57d49ec7e487",
   "metadata": {
    "tags": []
   },
   "outputs": [],
   "source": [
    "# Erste 10 Records des Dataframes anzeigen\n",
    "df.head(10)"
   ]
  },
  {
   "cell_type": "code",
   "execution_count": null,
   "id": "a05e328c-b0c2-4fb3-ab50-e92c613fc801",
   "metadata": {
    "tags": []
   },
   "outputs": [],
   "source": [
    "# Deskriptive Statistiken des Dataframes\n",
    "df.describe(include='all')"
   ]
  },
  {
   "cell_type": "markdown",
   "id": "66164662",
   "metadata": {},
   "source": [
    "#### <b>Aufgabe (2): Schreiben Sie den Inhalt der CSV-Datei 'blockchain.csv' in die erstellte Tinyflux-Datenbank \"blockchain.db\" und weisen sie Time, Fields und Tags zu.</b>\n",
    "\n",
    "<b style=\"color: gray;\">(max. erreichbare Punkte: 8)</b>"
   ]
  },
  {
   "cell_type": "code",
   "execution_count": null,
   "id": "cfd07b2d-1b23-4c93-b3f9-ccc3dcc73c31",
   "metadata": {},
   "outputs": [],
   "source": [
    "# Einlesen der CSV-Datei in Tinyflux\n",
    "with open(\"synthetic_blockchain_transactions.csv\", mode=\"r\") as file:\n",
    "    reader = csv.DictReader(file)\n",
    "    for row in reader:\n",
    "        point = Point(\n",
    "            time=datetime.strptime(row[\"time\"], \"%Y-%m-%d %H:%M:%S\"),\n",
    "            measurement=\"blockchain_transactions\",\n",
    "            fields={\n",
    "                \"amount\": float(row[\"amount\"]),\n",
    "                \"fee\": float(row[\"fee\"])\n",
    "                },  # Only numeric fields\n",
    "            tags={\n",
    "                \"sender_id\": row[\"sender_id\"],\n",
    "                \"receiver_id\": row[\"receiver_id\"],\n",
    "                \"status\": row[\"status\"]  # Move non-numeric fields to tags\n",
    "            }\n",
    "        )\n",
    "        db.insert(point)"
   ]
  },
  {
   "cell_type": "markdown",
   "id": "8b3b0ec4-23c0-4a37-9b5b-1e07bc086dd9",
   "metadata": {
    "tags": []
   },
   "source": [
    "#### <b>Aufgabe (3): Fügen Sie die folgenden vier Transaktionen manuell in die Datenbank ein und weisen Sie Time, Fields und Tags gleichermassen zu, wie beim Inhalt der CSV-Datei.</b>\n",
    "\n",
    "<b style=\"color: gray;\">(max. erreichbare Punkte: 4)</b>"
   ]
  },
  {
   "cell_type": "markdown",
   "id": "a7265ca3-f195-4d9a-b4fa-1b211f3a7ae5",
   "metadata": {},
   "source": [
    "| timestamp | sender_id | receiver_id | amount | fee | status |\n",
    "| --- | --- | --- | --- | --- | --- |\n",
    "| 2024-01-01 00:00:00 | 1700 | 1000 | 4.596327 | 0.064793 | confirmed |\n",
    "| 2024-01-01 07:00:00 | 1800 | 2000 | 7.463891 | 0.034658 | confirmed |\n",
    "| 2024-01-01 08:00:00 | 1900 | 3000 | 3.546987 | 0.075311 | pending |\n",
    "| 2024-01-01 09:00:00 | 2000 | 4000 | 1.347962 | 0.942864 | pending |"
   ]
  },
  {
   "cell_type": "code",
   "execution_count": null,
   "id": "ed3e36b8-11e5-48b3-babf-ed6558f47728",
   "metadata": {
    "tags": []
   },
   "outputs": [],
   "source": [
    "# Einlesen von manuellen Records\n",
    "p1 = Point(\n",
    "    time=datetime(2024, 1, 1, 0, 0, 0, tzinfo=timezone.utc),\n",
    "    tags={\"sender_id\": \"1700\", \"receiver_id\": \"1000\", \"status\": \"confirmed\"},\n",
    "    fields={\"amount\": 4.596327, \"fee\": 0.064793}\n",
    ")\n",
    "\n",
    "p2 = Point(\n",
    "    time=datetime(2024, 1, 1, 7, 0, 0, tzinfo=timezone.utc),\n",
    "    tags={\"sender_id\": \"1800\", \"receiver_id\": \"2000\", \"status\": \"confirmed\"},\n",
    "    fields={\"amount\": 7.463891, \"fee\": 0.034658}\n",
    ")\n",
    "p3 = Point(\n",
    "    time=datetime(2024, 1, 1, 8, 0, 0, tzinfo=timezone.utc),\n",
    "    tags={\"sender_id\": \"1900\", \"receiver_id\": \"3000\", \"status\": \"pending\"},\n",
    "    fields={\"amount\": 3.546987, \"fee\": 0.075311}\n",
    ")\n",
    "p4 = Point(\n",
    "    time=datetime(2024, 1, 1, 9, 0, 0, tzinfo=timezone.utc),\n",
    "    tags={\"sender_id\": \"2000\", \"receiver_id\": \"4000\", \"status\": \"pending\"},\n",
    "    fields={\"amount\": 1.347962, \"fee\": 0.942864}\n",
    ")\n",
    "\n",
    "# Insert into the DB.\n",
    "db.insert_multiple([p1, p2, p3, p4])"
   ]
  },
  {
   "cell_type": "markdown",
   "id": "4f6fa711",
   "metadata": {},
   "source": [
    "<div style=\"background-color: #333333;\">\n",
    "\n",
    "#### <b> Hinweis! \n",
    "\n",
    "#### Falls etwas mit der Erstellung der Datenbank nicht funktioniert, verwenden Sie für die folgenden Aufgaben die Tinyflux Datenbank 'blockchain_fallback.db'. Gehen Sie davon aus, dass diese unter denselben, obigen Bedingungen erstellt wurde.</b>\n",
    "    \n",
    "#### <b>Erstellen der Verbindung mit der Tinyflux-Datenbank mit dem Namen \"blockchain_fallback.db\":</b>\n",
    "</div>"
   ]
  },
  {
   "cell_type": "code",
   "execution_count": null,
   "id": "2249c16f-aac9-4a4b-8640-fb20614e8de6",
   "metadata": {},
   "outputs": [],
   "source": [
    "# Erstellung der Tinyflux-Datenbank (wird bereitgestellt)\n",
    "db = TinyFlux(\"blockchain_fallback.db\")"
   ]
  },
  {
   "cell_type": "markdown",
   "id": "f1b7e2b8-3f89-461d-b1f7-de6d577a102d",
   "metadata": {},
   "source": [
    "## <b>Aufgaben: Abfragen (Queries) (Dieser Teil wird bewertet!)</b>\n",
    "\n",
    "<b>Hinweise zu den folgenden Aufgabenstellungen:</b>\n",
    "<ul\">\n",
    "  <li>Erstellen Sie je Aufgabe eine Time-, Field- oder Tag Abfrage bzw. eine Kombination von diesen und integrieren Sie diese in Ihren Python Code.</li>\n",
    "  <li>Speichern Sie je Aufgabe die Ergebnistabelle mittels der zu Beginn dieses Notebooks bereitgestellten Funktion <b>points_to_dataframe</b> in einem DataFrame und stellen Sie diesen bzw. dessen Eigenschaften ganz oder in Teilen (z.B. erste 5 Zeilen) dar.</li>\n",
    "</ul>"
   ]
  },
  {
   "cell_type": "markdown",
   "id": "8af4064e-4cc5-46d7-beba-bd6fb9a73d45",
   "metadata": {},
   "source": [
    "#### <b>Aufgabe (4): Geben Sie die vier zuletzt, manuell hinzugefügten Records aus</b>\n",
    "\n",
    "<b style=\"color: gray;\">(max. erreichbare Punkte: 4)</b>"
   ]
  },
  {
   "cell_type": "code",
   "execution_count": null,
   "id": "0d536be5-d641-476c-9d36-6e7a0a8bebe2",
   "metadata": {
    "tags": []
   },
   "outputs": [],
   "source": [
    "# Definieren der Query\n",
    "time_query_conditions = (time >= datetime(2024, 1, 1, 0, 0, 0, tzinfo=timezone.utc))\n",
    "\n",
    "# Datenabfrage mittels der definierten Query\n",
    "my_results = db.search(time_query_conditions)\n",
    "\n",
    "# Erstellung eines Dataframes aus den Query-Resultaten\n",
    "df_result = points_to_dataframe(my_results)\n",
    "df_result"
   ]
  },
  {
   "cell_type": "markdown",
   "id": "325b22f2-9e73-4273-90c4-f75282a0b13b",
   "metadata": {},
   "source": [
    "#### <b>Aufgabe (5): Ermitteln Sie, welche Sender bereits vor dem manuell eingetragenen Zeitraum Transaktionen in Auftrag gegeben hatten</b>\n",
    "\n",
    "<b style=\"color: gray;\">(max. erreichbare Punkte: 4)</b>"
   ]
  },
  {
   "cell_type": "markdown",
   "id": "fc98945a-7283-4692-9b7b-02c84d29ea09",
   "metadata": {},
   "source": [
    "#### Anzeige derjenigen Sender, die manuell hinzugefügt wurden und im Jahr 2023 Transaktionen in Auftrag gegeben hatten"
   ]
  },
  {
   "cell_type": "code",
   "execution_count": null,
   "id": "dc590284-89c9-4211-a61d-83d62ee67536",
   "metadata": {},
   "outputs": [],
   "source": [
    "# Definieren der Queries\n",
    "tag_query_conditions = (tags.sender_id == \"1700\") | (tags.sender_id == \"1800\") | (tags.sender_id == \"1900\") | (tags.sender_id == \"2000\")\n",
    "time_query_conditions = (time <= datetime(2023, 12, 31, tzinfo=timezone.utc))\n",
    "\n",
    "# Datenabfrage mittels der definierten Queries\n",
    "my_results = db.search(tag_query_conditions & time_query_conditions)\n",
    "\n",
    "# Erstellung eines Dataframes aus den Query-Resultaten\n",
    "df_result = points_to_dataframe(my_results)\n",
    "df_result"
   ]
  },
  {
   "cell_type": "markdown",
   "id": "d0773f1b-44da-4795-a488-afe39176b40c",
   "metadata": {},
   "source": [
    "#### Anzeige aller Sender, die im Jahr 2023 Transaktionen in Auftrag gegeben hatten"
   ]
  },
  {
   "cell_type": "code",
   "execution_count": null,
   "id": "dce21e55-5593-4a59-8a70-f8b174f7bac1",
   "metadata": {
    "tags": []
   },
   "outputs": [],
   "source": [
    "# Definieren der Queries\n",
    "time_query_conditions = (time <= datetime(2023, 12, 31, tzinfo=timezone.utc))\n",
    "\n",
    "# Datenabfrage mittels der definierten Queries\n",
    "my_results = db.search(time_query_conditions)\n",
    "\n",
    "# Erstellung eines Dataframes aus den Query-Resultaten\n",
    "df_result = points_to_dataframe(my_results)\n",
    "df_result"
   ]
  },
  {
   "cell_type": "code",
   "execution_count": null,
   "id": "88616a82-f353-4856-bf7e-8245d276e520",
   "metadata": {
    "tags": []
   },
   "outputs": [],
   "source": [
    "df_result.sender_id.unique()"
   ]
  },
  {
   "cell_type": "markdown",
   "id": "d6cbee6a-08fe-41e5-8d64-68b75ee448cf",
   "metadata": {
    "tags": []
   },
   "source": [
    "#### <b>Aufgabe (6): Ermitteln Sie für das Jahr 2023 die Anzahl Transaktionen pro Quartal</b>\n",
    "\n",
    "<b>Details zur Aufgabenstellung:</b>\n",
    "- Die Anzahl Transaktionen kann mittels len(df_result), angewendet auf das Dataframe oder die Rohausgabe des Queries, herausgegeben werden\n",
    "\n",
    "<b style=\"color: gray;\">(max. erreichbare Punkte: 8)</b>"
   ]
  },
  {
   "cell_type": "code",
   "execution_count": null,
   "id": "6f7f77d3-e98c-4c72-a181-a08ff18c0a58",
   "metadata": {
    "tags": []
   },
   "outputs": [],
   "source": [
    "# Definieren der Queries\n",
    "time_query_conditions_q1 = (time >= datetime(2023, 1, 1, tzinfo=timezone.utc)) & (time <= datetime(2023, 3, 31, tzinfo=timezone.utc))\n",
    "time_query_conditions_q2 = (time >= datetime(2023, 4, 1, tzinfo=timezone.utc)) & (time <= datetime(2023, 6, 30, tzinfo=timezone.utc))\n",
    "time_query_conditions_q3 = (time >= datetime(2023, 7, 1, tzinfo=timezone.utc)) & (time <= datetime(2023, 9, 30, tzinfo=timezone.utc))\n",
    "time_query_conditions_q4 = (time >= datetime(2023, 10, 1, tzinfo=timezone.utc)) & (time <= datetime(2023, 12, 31, tzinfo=timezone.utc))\n",
    "\n",
    "# Datenabfrage mittels der definierten Queries\n",
    "my_results_q1 = db.search(time_query_conditions_q1)\n",
    "my_results_q2 = db.search(time_query_conditions_q2)\n",
    "my_results_q3 = db.search(time_query_conditions_q3)\n",
    "my_results_q4 = db.search(time_query_conditions_q4)\n",
    "\n",
    "# Erstellung eines Dataframes aus den Query-Resultaten\n",
    "df_result_q1 = points_to_dataframe(my_results_q1)\n",
    "df_result_q2 = points_to_dataframe(my_results_q2)\n",
    "df_result_q3 = points_to_dataframe(my_results_q3)\n",
    "df_result_q4 = points_to_dataframe(my_results_q4)\n",
    "\n",
    "# Ausgabe der aggregierten Resultate\n",
    "print(\"\\nTime Query Count 1. Quartal:\")\n",
    "print(len(df_result_q1))\n",
    "\n",
    "print(\"\\nTime Query Count 2. Quartal:\")\n",
    "print(len(df_result_q2))\n",
    "\n",
    "print(\"\\nTime Query Count 3. Quartal:\")\n",
    "print(len(df_result_q3))\n",
    "\n",
    "print(\"\\nTime Query Count 4. Quartal:\")\n",
    "print(len(df_result_q4))"
   ]
  },
  {
   "cell_type": "markdown",
   "id": "b467f4eb-d2ea-4a29-926b-94adf3eea0f1",
   "metadata": {
    "tags": []
   },
   "source": [
    "#### <b>Aufgabe (7): Ermitteln Sie den durchschnittlichen Amount-Betrag pro Status</b>\n",
    "\n",
    "<b>Details zur Aufgabenstellung:</b>\n",
    "- Alle im Datensatz vorhandenen Status können Sie mittels der Pandas-Funktion \"df.attributname.unique()\" (https://pandas.pydata.org/docs/reference/api/pandas.unique.html) ermitteln\n",
    "- Den Durchschnitt über eine Spalte können Sie mittels der Pandas-Funktion df[['spaltenname']].mean() https://pandas.pydata.org/pandas-docs/stable/reference/api/pandas.DataFrame.mean.html ermitteln\n",
    "\n",
    "<b style=\"color: gray;\">(max. erreichbare Punkte: 8)</b>"
   ]
  },
  {
   "cell_type": "code",
   "execution_count": null,
   "id": "0c638303-0b35-4e5d-8454-e877e7f0f868",
   "metadata": {
    "tags": []
   },
   "outputs": [],
   "source": [
    "df.status.unique()"
   ]
  },
  {
   "cell_type": "code",
   "execution_count": null,
   "id": "04c1636b-1760-4dcd-bdf2-f109d9a9c443",
   "metadata": {
    "tags": []
   },
   "outputs": [],
   "source": [
    "# Definieren der Queries\n",
    "tag_query_conditions_confirmed = (tags.status == \"confirmed\")\n",
    "tag_query_conditions_pending = (tags.status == \"pending\")\n",
    "tag_query_conditions_failed = (tags.status == \"failed\")\n",
    "\n",
    "# Datenabfrage mittels der definierten Queries\n",
    "my_results_confirmed = db.search(tag_query_conditions_confirmed)\n",
    "my_results_pending = db.search(tag_query_conditions_pending)\n",
    "my_results_failed = db.search(tag_query_conditions_failed)\n",
    "\n",
    "# Erstellung eines Dataframes aus den Query-Resultaten\n",
    "df_result_confirmed = points_to_dataframe(my_results_confirmed)\n",
    "df_result_pending = points_to_dataframe(my_results_pending)\n",
    "df_result_failed = points_to_dataframe(my_results_failed)\n",
    "\n",
    "# Ausgabe der aggregierten Resultate\n",
    "print(\"\\nDurchschnittlicher Amount-Betrag für confirmed:\")\n",
    "print(df_result_confirmed[['amount']].mean())\n",
    "\n",
    "print(\"\\nDurchschnittlicher Amount-Betrag für pending:\")\n",
    "print(df_result_pending[['amount']].mean())\n",
    "\n",
    "print(\"\\nDurchschnittlicher Amount-Betrag für failed:\")\n",
    "print(df_result_failed[['amount']].mean())"
   ]
  },
  {
   "cell_type": "markdown",
   "id": "fd08adfb-9cf3-499e-acef-d91595f31a66",
   "metadata": {},
   "source": [
    "#### <b>Aufgabe (8): Ermitteln Sie für das Jahr 2023 pro Quartal die Anzahl Transaktionen, die höhere Gebühren (fee) aufweisen, als der Median von fee.</b>\n",
    "\n",
    "<b>Details zur Aufgabenstellung:</b>\n",
    "- Die Anzahl Transaktionen kann mittels len(df_result), angewendet auf das Dataframe oder die Rohausgabe des Queries, herausgegeben werden\n",
    "- Der Median ist den zu Beginn dieses Notebooks erstellten, deskriptiven Statistiken (50%) ausgeführt\n",
    "\n",
    "<b style=\"color: gray;\">(max. erreichbare Punkte: 8)</b>"
   ]
  },
  {
   "cell_type": "code",
   "execution_count": null,
   "id": "6d02353c-be60-407f-984f-bca7f811ba1b",
   "metadata": {
    "tags": []
   },
   "outputs": [],
   "source": [
    "# Definieren der Queries\n",
    "time_query_conditions_q1 = (time >= datetime(2023, 1, 1, tzinfo=timezone.utc)) & (time <= datetime(2023, 3, 31, tzinfo=timezone.utc))\n",
    "time_query_conditions_q2 = (time >= datetime(2023, 4, 1, tzinfo=timezone.utc)) & (time <= datetime(2023, 6, 30, tzinfo=timezone.utc))\n",
    "time_query_conditions_q3 = (time >= datetime(2023, 7, 1, tzinfo=timezone.utc)) & (time <= datetime(2023, 9, 30, tzinfo=timezone.utc))\n",
    "time_query_conditions_q4 = (time >= datetime(2023, 10, 1, tzinfo=timezone.utc)) & (time <= datetime(2023, 12, 31, tzinfo=timezone.utc))\n",
    "\n",
    "field_query_conditions = (field.fee > 0.050444)\n",
    "\n",
    "# Datenabfrage mittels der definierten Queries\n",
    "my_results_q1 = db.search(time_query_conditions_q1 & field_query_conditions)\n",
    "my_results_q2 = db.search(time_query_conditions_q2 & field_query_conditions)\n",
    "my_results_q3 = db.search(time_query_conditions_q3 & field_query_conditions)\n",
    "my_results_q4 = db.search(time_query_conditions_q4 & field_query_conditions)\n",
    "\n",
    "# Erstellung eines Dataframes aus den Query-Resultaten\n",
    "df_result_q1 = points_to_dataframe(my_results_q1)\n",
    "df_result_q2 = points_to_dataframe(my_results_q2)\n",
    "df_result_q3 = points_to_dataframe(my_results_q3)\n",
    "df_result_q4 = points_to_dataframe(my_results_q4)\n",
    "\n",
    "# Ausgabe der aggregierten Resultate\n",
    "print(\"\\nTime Query Count 1. Quartal:\")\n",
    "print(len(df_result_q1))\n",
    "\n",
    "print(\"\\nTime Query Count 2. Quartal:\")\n",
    "print(len(df_result_q2))\n",
    "\n",
    "print(\"\\nTime Query Count 3. Quartal:\")\n",
    "print(len(df_result_q3))\n",
    "\n",
    "print(\"\\nTime Query Count 4. Quartal:\")\n",
    "print(len(df_result_q4))"
   ]
  },
  {
   "cell_type": "markdown",
   "id": "ff525b1e",
   "metadata": {},
   "source": [
    "### Jupyter notebook --footer info-- (please always provide this at the end of each notebook)"
   ]
  },
  {
   "cell_type": "code",
   "execution_count": null,
   "id": "0056cbfd-b72f-416c-a974-72134cd592a1",
   "metadata": {},
   "outputs": [],
   "source": [
    "import os\n",
    "import platform\n",
    "import socket\n",
    "from platform import python_version\n",
    "from datetime import datetime\n",
    "\n",
    "print('-----------------------------------')\n",
    "print(os.name.upper())\n",
    "print(platform.system(), '|', platform.release())\n",
    "print('Datetime:', datetime.now().strftime(\"%Y-%m-%d %H:%M:%S\"))\n",
    "print('Python Version:', python_version())\n",
    "print('IP Address:', socket.gethostbyname(socket.gethostname()))\n",
    "print('-----------------------------------')"
   ]
  }
 ],
 "metadata": {
  "kernelspec": {
   "display_name": "dsenv",
   "language": "python",
   "name": "python3"
  },
  "language_info": {
   "codemirror_mode": {
    "name": "ipython",
    "version": 3
   },
   "file_extension": ".py",
   "mimetype": "text/x-python",
   "name": "python",
   "nbconvert_exporter": "python",
   "pygments_lexer": "ipython3",
   "version": "3.12.4"
  }
 },
 "nbformat": 4,
 "nbformat_minor": 5
}
